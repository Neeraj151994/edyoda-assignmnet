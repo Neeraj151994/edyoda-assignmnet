{
 "cells": [
  {
   "cell_type": "code",
   "execution_count": 1,
   "id": "625b3190",
   "metadata": {},
   "outputs": [
    {
     "name": "stdout",
     "output_type": "stream",
     "text": [
      "\n",
      "Please Enter the Range : 9\n",
      "0\n",
      "even\n",
      "1\n",
      "odd\n",
      "2\n",
      "even\n",
      "3\n",
      "odd\n",
      "4\n",
      "even\n",
      "5\n",
      "odd\n",
      "6\n",
      "even\n",
      "7\n",
      "odd\n",
      "8\n",
      "even\n",
      "Even count numbers in series is 5\n",
      "Odd count numbers in series is 4\n"
     ]
    }
   ],
   "source": [
    "# even odd count in series\n",
    "#l=[1,2,3,4,5,6,7,8,9]\n",
    "Number = int(input(\"\\nPlease Enter the Range : \"))\n",
    "even=odd=0\n",
    "for i in range(0,Number):\n",
    "#for i in l:\n",
    "    print(i)\n",
    "    if i%2==0:\n",
    "        print(\"even\")\n",
    "        even+=1 \n",
    "    elif i%2!=0:\n",
    "        print(\"odd\")\n",
    "        odd+=1\n",
    "print('Even count numbers in series is',even)\n",
    "print('Odd count numbers in series is',odd)"
   ]
  },
  {
   "cell_type": "code",
   "execution_count": null,
   "id": "5f4cbccb",
   "metadata": {},
   "outputs": [],
   "source": []
  }
 ],
 "metadata": {
  "kernelspec": {
   "display_name": "Python 3 (ipykernel)",
   "language": "python",
   "name": "python3"
  },
  "language_info": {
   "codemirror_mode": {
    "name": "ipython",
    "version": 3
   },
   "file_extension": ".py",
   "mimetype": "text/x-python",
   "name": "python",
   "nbconvert_exporter": "python",
   "pygments_lexer": "ipython3",
   "version": "3.10.1"
  }
 },
 "nbformat": 4,
 "nbformat_minor": 5
}
